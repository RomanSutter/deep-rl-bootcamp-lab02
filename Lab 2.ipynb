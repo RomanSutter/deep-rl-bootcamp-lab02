{
 "cells": [
  {
   "cell_type": "code",
   "execution_count": 1,
   "metadata": {},
   "outputs": [],
   "source": [
    "\"\"\"\n",
    "This project was developed by Peter Chen, Rocky Duan, Pieter Abbeel for the Berkeley Deep RL Bootcamp, August 2017.\n",
    "Bootcamp website with slides and lecture videos: https://sites.google.com/view/deep-rl-bootcamp/.\n",
    "\n",
    "Code adapted from Stanford CS231N materials: http://cs231n.stanford.edu/\n",
    "\"\"\"\n",
    "\n",
    "\n",
    "# note to properly run this lab, you should execute all code blocks sequentially\n",
    "import chainer\n",
    "import chainer.functions as F\n",
    "import chainer.links as L\n",
    "from chainer import training\n",
    "from chainer.training import extensions\n",
    "\n",
    "from collections import namedtuple, defaultdict, deque\n",
    "\n",
    "import numpy as np\n",
    "\n",
    "%matplotlib inline\n",
    "\n",
    "import matplotlib\n",
    "import matplotlib.pyplot as plt"
   ]
  },
  {
   "cell_type": "markdown",
   "metadata": {},
   "source": [
    "## Introduction to Chainer\n",
    "\n",
    "Chainer can be understood as Numpy plus the ability to record the computation graph of numerical operations to enable Automatic Differentiation. (Chainer actually also offers many other things; for example, a Numpy equivalent library that runs on GPU, but we will ignore them for now)"
   ]
  },
  {
   "cell_type": "markdown",
   "metadata": {},
   "source": [
    "Let's illustrate how Chainer works by a simple 1D regression task.\n",
    "\n",
    "Suppose we have observations from the following model $y = w x + b + \\epsilon$ where $\\epsilon \\sim \\mathcal{N}(0, 0.1)$ and the task is to estimate the linear model parameters $w, b$ from data."
   ]
  },
  {
   "cell_type": "code",
   "execution_count": 4,
   "metadata": {},
   "outputs": [
    {
     "data": {
      "image/png": "[encoded data removed]",
      "text/plain": [
       "<Figure size 432x288 with 1 Axes>"
      ]
     },
     "metadata": {
      "needs_background": "light"
     },
     "output_type": "display_data"
    }
   ],
   "source": [
    "# first generate some observations\n",
    "true_a = 1.3\n",
    "true_b = 0.4\n",
    "data_x = (np.arange(100) / 99.0 - .5).astype(np.float32) # Chainer assumes all the cpu computation is done in float32\n",
    "data_y = (data_x * true_a + true_b + np.random.randn(*data_x.shape) * 0.1).astype(np.float32)\n",
    "_ = plt.scatter(data_x, data_y, c='b')"
   ]
  },
  {
   "cell_type": "markdown",
   "metadata": {},
   "source": [
    "Chainer provides an abstraction called `Link` that describe some computation and keeps track of parameters for it. For instance, a `Linear` link describes a linear map on input and keeps track of `w` and bias `b`."
   ]
  },
  {
   "cell_type": "code",
   "execution_count": 5,
   "metadata": {},
   "outputs": [
    {
     "name": "stdout",
     "output_type": "stream",
     "text": [
      "w: variable W([[0.6563132]])\n",
      "b: variable b([0.])\n",
      "Operations on chainer.Variable: variable([[123.65631]]), type: <class 'chainer.variable.Variable'>\n",
      "numpy arrays: [[0.6563132]] [[123.65631]]\n"
     ]
    }
   ],
   "source": [
    "model = L.Linear(in_size=1, out_size=1) # input is 1D data and output is also 1D data\n",
    "\n",
    "# Chainer will randomly initialize `w` and `b` for us.\n",
    "# we can take a look at their values\n",
    "print(\"w:\", model.W)\n",
    "print(\"b:\", model.b)\n",
    "\n",
    "# model.W and model.b have type `chainer.Variable`, \n",
    "#   which is a wrapper around Numpy array\n",
    "assert isinstance(model.W, chainer.Variable)\n",
    "\n",
    "# operations that involve `chainer.Variable` will produce\n",
    "#   `chainer.Variable` and this records the computation graph\n",
    "var_result = model.W + 123 # some random computation\n",
    "print(\"Operations on chainer.Variable: %s, type: %s\" % (var_result, type(var_result)))\n",
    "\n",
    "# the underlying numpy array can be accessed by `data` attribute\n",
    "print(\"numpy arrays:\", model.W.data, var_result.data)"
   ]
  },
  {
   "cell_type": "code",
   "execution_count": 6,
   "metadata": {},
   "outputs": [
    {
     "data": {
      "image/png": "[encoded data removed]",
      "text/plain": [
       "<Figure size 432x288 with 1 Axes>"
      ]
     },
     "metadata": {
      "needs_background": "light"
     },
     "output_type": "display_data"
    }
   ],
   "source": [
    "# A chainer link is a callable object. calling it performs the\n",
    "#   forward computation. (in this case, it performs Wx + b)\n",
    "model_y = model(data_x[:, None]) # chainer's link usually assumes input is [Batch Size, Input Dimension]\n",
    "# `model_y` is a chainer variable so we use `.data` to access its numpy array for plotting\n",
    "\n",
    "# we can plot the model's current fit in red. it should be terrible because we haven't trained it yet\n",
    "_ = plt.plot(data_x, model_y.data[:,0], c='r')\n",
    "_ = plt.scatter(data_x, data_y, c='b')\n",
    "_ = plt.title(\"Initial model\")"
   ]
  },
  {
   "cell_type": "code",
   "execution_count": 7,
   "metadata": {},
   "outputs": [
    {
     "name": "stdout",
     "output_type": "stream",
     "text": [
      "loss variable(0.19746208)\n",
      "dloss/dW [[-0.10383199]]\n"
     ]
    }
   ],
   "source": [
    "# now let's walk through how to perform forward computation\n",
    "#  and use AD to get gradients\n",
    "\n",
    "# first we clear the gradients that are stored in the model\n",
    "model.cleargrads()\n",
    "# as we have seen we can perform forward computation by calling the link\n",
    "model_y = model(data_x[:, None])\n",
    "\n",
    "# remember that `model_y` is a chainer variable. to operate on chainer variable\n",
    "#    we will use functions from chainer.functions to operate on those objects.\n",
    "loss = F.mean(F.square(model_y - data_y[:, None]))\n",
    "# `loss` is a scalar chainer variable\n",
    "assert isinstance(loss, chainer.Variable)\n",
    "print(\"loss\", loss)\n",
    "# calculating gradients d loss /d params is as simple as\n",
    "loss.backward()\n",
    "\n",
    "# we can inspect the gradient of loss with respect to W\n",
    "print(\"dloss/dW\", model.W.grad)"
   ]
  },
  {
   "cell_type": "markdown",
   "metadata": {},
   "source": [
    "Now that we know how to calculate gradients, we can code up a simple loop to perform gradient descent to train this model:\n",
    "\n",
    "(Hint: if you run into weird problems, maybe the state has been messed up and you can try re-runing all the code blocks from the beginning)"
   ]
  },
  {
   "cell_type": "code",
   "execution_count": 8,
   "metadata": {},
   "outputs": [
    {
     "name": "stdout",
     "output_type": "stream",
     "text": [
      "Itr 0 loss: variable(0.3571201)\n",
      "Itr 25 loss: variable(0.03163771)\n",
      "Itr 50 loss: variable(0.01231557)\n",
      "Itr 75 loss: variable(0.01011365)\n"
     ]
    },
    {
     "data": {
      "image/png": "[encoded data removed]",
      "text/plain": [
       "<Figure size 432x288 with 1 Axes>"
      ]
     },
     "metadata": {
      "needs_background": "light"
     },
     "output_type": "display_data"
    },
    {
     "data": {
      "image/png": "[encoded data removed]",
      "text/plain": [
       "<Figure size 432x288 with 1 Axes>"
      ]
     },
     "metadata": {
      "needs_background": "light"
     },
     "output_type": "display_data"
    }
   ],
   "source": [
    "# now we can perform gradient descent to improve this model\n",
    "model = L.Linear(in_size=1, out_size=1)\n",
    "losses = []\n",
    "\n",
    "learning_rate = 0.25\n",
    "\n",
    "for i in range(100):\n",
    "    model.cleargrads()\n",
    "    loss = F.mean(F.square(model(data_x[:, None]) - data_y[:, None]))\n",
    "    losses.append(float(loss.data))\n",
    "    ## *** YOUR CODE HERE TO PERFORM GRADIENT DESCENT ***\n",
    "    ## Hint: you could access gradients with model.W.grad, model.b.grad\n",
    "    ## Hint2: you could write data into a parameter with model.W.data[:] = some_numpy_array\n",
    "    ## Hint3: if your model doesn't learn, remember to try different learning rates\n",
    "    loss.backward()\n",
    "    model.W.data[:] -= learning_rate * model.W.grad[0]\n",
    "    model.b.data[:] -= learning_rate * model.b.grad[0]\n",
    "    \n",
    "    \n",
    "    if i % 25 == 0:\n",
    "        print(\"Itr\", i, \"loss:\", loss)\n",
    "plt.plot(np.array(losses))\n",
    "plt.title(\"Learning curve\")\n",
    "plt.figure()\n",
    "plt.plot(data_x, model(data_x[:, None])[:,0].data, c='r')\n",
    "plt.scatter(data_x, data_y, c='b')\n",
    "_ = plt.title(\"Trained model fitness\")\n"
   ]
  },
  {
   "cell_type": "markdown",
   "metadata": {},
   "source": [
    "## Train your first deep model\n",
    "\n",
    "Now we have learned the basics of Chainer. We can use it to train a deep model to classify MNIST digits. We will train a model on the MNIST dataset because the dataset is small.\n",
    "\n",
    "First we load the data and see what the images look like:"
   ]
  },
  {
   "cell_type": "code",
   "execution_count": 9,
   "metadata": {
    "scrolled": false
   },
   "outputs": [
    {
     "name": "stdout",
     "output_type": "stream",
     "text": [
      "train[i][0] is the ith image that's flattened, and has shape: (784,)\n",
      "train[i][1] is the ith image's label, such as: 3\n"
     ]
    },
    {
     "data": {
      "image/png": "[encoded data removed]",
      "text/plain": [
       "<Figure size 432x288 with 1 Axes>"
      ]
     },
     "metadata": {
      "needs_background": "light"
     },
     "output_type": "display_data"
    },
    {
     "data": {
      "image/png": "[encoded data removed]",
      "text/plain": [
       "<Figure size 432x288 with 1 Axes>"
      ]
     },
     "metadata": {
      "needs_background": "light"
     },
     "output_type": "display_data"
    }
   ],
   "source": [
    "train, test = chainer.datasets.get_mnist()\n",
    "# use train[data_point_index] to access data\n",
    "print(\"train[i][0] is the ith image that's flattened, and has shape:\", train[12][0].shape)\n",
    "print(\"train[i][1] is the ith image's label, such as:\", train[12][1])\n",
    "# here we visualize two of them\n",
    "plt.imshow(train[12][0].reshape([28, 28,]))\n",
    "plt.title(\"Label: %s\" % train[12][1])\n",
    "plt.figure()\n",
    "plt.imshow(train[42][0].reshape([28, 28,]))\n",
    "_ = plt.title(\"Label: %s\" % train[42][1])"
   ]
  },
  {
   "cell_type": "markdown",
   "metadata": {},
   "source": [
    "Next we will provide some boilerplate code and train a linear classifier as an example:"
   ]
  },
  {
   "cell_type": "code",
   "execution_count": 10,
   "metadata": {},
   "outputs": [
    {
     "name": "stdout",
     "output_type": "stream",
     "text": [
      "loss: 2.3712074756622314; accuracy: 0.1875\n",
      "loss: 0.6031571233272552; accuracy: 0.8575\n",
      "loss: 0.5287836992740631; accuracy: 0.8325\n",
      "loss: 0.4139050340652466; accuracy: 0.8925\n",
      "loss: 0.3616004824638367; accuracy: 0.905\n",
      "loss: 0.36100897133350374; accuracy: 0.9125\n",
      "loss: 0.304651717543602; accuracy: 0.9125\n",
      "loss: 0.3190174698829651; accuracy: 0.905\n",
      "loss: 0.2664553305506706; accuracy: 0.925\n",
      "loss: 0.36404032856225965; accuracy: 0.9075\n",
      "loss: 0.31955510020256045; accuracy: 0.905\n",
      "loss: 0.3145572108030319; accuracy: 0.9025\n",
      "loss: 0.3188037118315697; accuracy: 0.905\n",
      "loss: 0.29591076165437696; accuracy: 0.9175\n",
      "loss: 0.284855380654335; accuracy: 0.9125\n",
      "loss: 0.32240001916885375; accuracy: 0.9125\n",
      "loss: 0.3852072665095329; accuracy: 0.9075\n",
      "loss: 0.3183770248293877; accuracy: 0.905\n",
      "loss: 0.27408154726028444; accuracy: 0.9175\n",
      "loss: 0.24726943224668502; accuracy: 0.93\n",
      "loss: 0.2571465313434601; accuracy: 0.925\n",
      "loss: 0.25980017125606536; accuracy: 0.935\n",
      "loss: 0.34594342052936555; accuracy: 0.915\n",
      "loss: 0.2518936809897423; accuracy: 0.9325\n",
      "loss: 0.37112754613161086; accuracy: 0.89\n",
      "loss: 0.20684623658657075; accuracy: 0.945\n"
     ]
    }
   ],
   "source": [
    "def run(model, batchsize=16, num_epochs=2):\n",
    "    \n",
    "    optimizer = chainer.optimizers.Adam() # we will use chainer's Adam implementation instead of writing our own gradient based optimization\n",
    "    optimizer.setup(model)\n",
    "    \n",
    "    stats = defaultdict(lambda: deque(maxlen=25))\n",
    "    for epoch in range(num_epochs):\n",
    "        train_iter = chainer.iterators.SerialIterator(train, batchsize, repeat=False, shuffle=True)\n",
    "        test_iter = chainer.iterators.SerialIterator(test, batchsize, repeat=False, shuffle=False)\n",
    "        \n",
    "        for itr, batch in enumerate(train_iter):\n",
    "            xs = np.concatenate([datum[0][None, :] for datum in batch])\n",
    "            ys = np.array([datum[1] for datum in batch])\n",
    "\n",
    "            logits = model(xs)\n",
    "\n",
    "            loss = F.softmax_cross_entropy(logits, ys)\n",
    "            model.cleargrads()\n",
    "            loss.backward()\n",
    "            optimizer.update()\n",
    "            \n",
    "            # calculate stats\n",
    "            stats[\"loss\"].append(float(loss.data))\n",
    "            stats[\"accuracy\"].append(float((logits.data.argmax(1) == ys).sum() / batchsize))\n",
    "            if itr % 300 == 0:\n",
    "                print(\"; \".join(\"%s: %s\" % (k, np.mean(vs)) for k, vs in stats.items()))\n",
    "\n",
    "# try a simple linear model\n",
    "run(L.Linear(None, 10))"
   ]
  },
  {
   "cell_type": "markdown",
   "metadata": {},
   "source": [
    "Next we will try to improve performance by training an MLP instead. A partial implementation is provided for you to fill in:"
   ]
  },
  {
   "cell_type": "code",
   "execution_count": 11,
   "metadata": {},
   "outputs": [
    {
     "name": "stdout",
     "output_type": "stream",
     "text": [
      "loss: 2.306377649307251; accuracy: 0.0\n",
      "loss: 0.28136122167110444; accuracy: 0.9175\n",
      "loss: 0.2195140814781189; accuracy: 0.9375\n",
      "loss: 0.26384510546922685; accuracy: 0.925\n",
      "loss: 0.16398538708686827; accuracy: 0.9525\n",
      "loss: 0.2280137085914612; accuracy: 0.9375\n",
      "loss: 0.14562155812978744; accuracy: 0.955\n",
      "loss: 0.1335260158777237; accuracy: 0.965\n",
      "loss: 0.10778049826622009; accuracy: 0.97\n",
      "loss: 0.11294136762619018; accuracy: 0.965\n",
      "loss: 0.1461811089515686; accuracy: 0.96\n",
      "loss: 0.1375560823082924; accuracy: 0.9625\n",
      "loss: 0.12218412935733795; accuracy: 0.97\n",
      "loss: 0.12823694944381714; accuracy: 0.9625\n",
      "loss: 0.0693393224477768; accuracy: 0.985\n",
      "loss: 0.06421002864837647; accuracy: 0.9875\n",
      "loss: 0.08867771446704864; accuracy: 0.97\n",
      "loss: 0.07704574257135391; accuracy: 0.98\n",
      "loss: 0.10127865135669709; accuracy: 0.975\n",
      "loss: 0.12343710869550704; accuracy: 0.965\n",
      "loss: 0.09027271509170533; accuracy: 0.97\n",
      "loss: 0.050861375331878664; accuracy: 0.985\n",
      "loss: 0.04830893784761429; accuracy: 0.9875\n",
      "loss: 0.09356951296329498; accuracy: 0.97\n",
      "loss: 0.06622562050819397; accuracy: 0.9775\n",
      "loss: 0.0794362571835518; accuracy: 0.9875\n"
     ]
    }
   ],
   "source": [
    "class MLP(chainer.Chain):\n",
    "\n",
    "    def __init__(self, n_units, n_out):\n",
    "        super(MLP, self).__init__()\n",
    "        with self.init_scope():\n",
    "            # the size of the inputs to each layer will be inferred\n",
    "            self.l1 = L.Linear(None, n_units)  # n_in -> n_units\n",
    "            self.l2 = L.Linear(None, n_units)  # n_units -> n_units\n",
    "            self.l3 = L.Linear(None, n_out)  # n_units -> n_out\n",
    "\n",
    "    def __call__(self, x):\n",
    "        # *** YOUR CODE HERE TO BUILD AN MLP W/ self.l1, self.l2, self.l3 ***\n",
    "        # \n",
    "        # Hint: you should make use of non-linearities / activation functions\n",
    "        #     https://docs.chainer.org/en/stable/reference/functions.html#activation-functions\n",
    "        \n",
    "        x = F.relu(self.l1(x))\n",
    "        x = F.relu(self.l2(x))\n",
    "        x = self.l3(x)\n",
    "        return x\n",
    "run(MLP(200, 10))"
   ]
  },
  {
   "cell_type": "markdown",
   "metadata": {},
   "source": [
    "Next you should try to implement logging test loss and see if the model is overfitting."
   ]
  },
  {
   "cell_type": "code",
   "execution_count": 12,
   "metadata": {
    "scrolled": false
   },
   "outputs": [
    {
     "name": "stdout",
     "output_type": "stream",
     "text": [
      "loss: 2.2968342304229736; accuracy: 0.125; test_loss: 2.26965518951416; test_accuracy: 0.1775\n",
      "loss: 0.2561325907707214; accuracy: 0.9225; test_loss: 0.46364213824272155; test_accuracy: 0.86\n",
      "loss: 0.20333471417427063; accuracy: 0.95; test_loss: 0.43191513180732727; test_accuracy: 0.865\n",
      "loss: 0.12705319941043855; accuracy: 0.97; test_loss: 0.36053223311901095; test_accuracy: 0.895\n",
      "loss: 0.17821501612663268; accuracy: 0.9525; test_loss: 0.2962112709879875; test_accuracy: 0.92\n",
      "loss: 0.22091207027435303; accuracy: 0.9375; test_loss: 0.33983794271945955; test_accuracy: 0.9025\n",
      "loss: 0.2237922242283821; accuracy: 0.9325; test_loss: 0.3879958289861679; test_accuracy: 0.8975\n",
      "loss: 0.15529409766197205; accuracy: 0.94; test_loss: 0.2537970650196075; test_accuracy: 0.9075\n",
      "loss: 0.11646515846252442; accuracy: 0.9625; test_loss: 0.2541471940279007; test_accuracy: 0.9075\n",
      "loss: 0.1388248074054718; accuracy: 0.9525; test_loss: 0.20728772789239883; test_accuracy: 0.9375\n",
      "loss: 0.13806118190288544; accuracy: 0.9575; test_loss: 0.20284978151321412; test_accuracy: 0.9325\n",
      "loss: 0.10854262232780457; accuracy: 0.9725; test_loss: 0.18324783742427825; test_accuracy: 0.9325\n",
      "loss: 0.10324474990367889; accuracy: 0.9675; test_loss: 0.2701418995857239; test_accuracy: 0.9275\n",
      "loss: 0.11493307411670685; accuracy: 0.955; test_loss: 0.18166406631469725; test_accuracy: 0.945\n",
      "loss: 0.10109540343284606; accuracy: 0.97; test_loss: 0.2005277869105339; test_accuracy: 0.9325\n",
      "loss: 0.115377756357193; accuracy: 0.9675; test_loss: 0.2134198561310768; test_accuracy: 0.92\n",
      "loss: 0.11908489763736725; accuracy: 0.965; test_loss: 0.45445806443691256; test_accuracy: 0.89\n",
      "loss: 0.10785532385110855; accuracy: 0.9675; test_loss: 0.18345541954040528; test_accuracy: 0.9375\n",
      "loss: 0.11161970853805542; accuracy: 0.9675; test_loss: 0.19843858867883682; test_accuracy: 0.9375\n",
      "loss: 0.08226041436195373; accuracy: 0.97; test_loss: 0.16254914402961732; test_accuracy: 0.945\n",
      "loss: 0.06862382888793946; accuracy: 0.9775; test_loss: 0.19435826659202576; test_accuracy: 0.925\n",
      "loss: 0.09260303884744644; accuracy: 0.9725; test_loss: 0.20711861312389374; test_accuracy: 0.955\n",
      "loss: 0.06395434319972992; accuracy: 0.9825; test_loss: 0.2593223524093628; test_accuracy: 0.9275\n",
      "loss: 0.08869638442993164; accuracy: 0.9725; test_loss: 0.19468823432922364; test_accuracy: 0.9375\n",
      "loss: 0.11091890275478362; accuracy: 0.9675; test_loss: 0.13649499595165251; test_accuracy: 0.96\n",
      "loss: 0.11101271182298661; accuracy: 0.9725; test_loss: 0.14538824886083604; test_accuracy: 0.95\n"
     ]
    }
   ],
   "source": [
    "def better_run(model, batchsize=16, num_epochs=2, learning_rate=0.001): #default learning_rate = 0.001\n",
    "\n",
    "    optimizer = chainer.optimizers.Adam(learning_rate) # we will use chainer's Adam implementation instead of writing our own gradient based optimization\n",
    "    optimizer.setup(model)\n",
    "    \n",
    "    stats = defaultdict(lambda: deque(maxlen=25))\n",
    "    for epoch in range(num_epochs):\n",
    "        train_iter = chainer.iterators.SerialIterator(train, batchsize, repeat=False, shuffle=True)\n",
    "        for itr, batch in enumerate(train_iter):\n",
    "            xs = np.concatenate([datum[0][None, :] for datum in batch])\n",
    "            ys = np.array([datum[1] for datum in batch])\n",
    "\n",
    "            logits = model(xs)\n",
    "\n",
    "            loss = F.softmax_cross_entropy(logits, ys)\n",
    "            model.cleargrads()\n",
    "            loss.backward()\n",
    "            optimizer.update()\n",
    "            \n",
    "            # calculate stats\n",
    "            stats[\"loss\"].append(float(loss.data))\n",
    "            stats[\"accuracy\"].append(float((logits.data.argmax(1) == ys).sum() / batchsize))\n",
    "            if itr % 300 == 0:\n",
    "                test_iter = chainer.iterators.SerialIterator(test, batchsize, repeat=False, shuffle=False)\n",
    "                # *** YOUR CODE implement logging of stats on test set ***\n",
    "                for batch_test in test_iter:\n",
    "                    test_xs = np.concatenate([datum[0][None, :] for datum in batch_test])\n",
    "                    test_ys = np.array([datum[1] for datum in batch_test])\n",
    "\n",
    "                    logits = model(test_xs)               \n",
    "                    loss = F.softmax_cross_entropy(logits, test_ys)\n",
    "\n",
    "                    stats[\"test_loss\"].append(float(loss.data))\n",
    "                    stats[\"test_accuracy\"].append(float((logits.data.argmax(1) == test_ys).sum() / batchsize))\n",
    "                    \n",
    "                print(\"; \".join(\"%s: %s\" % (k, np.mean(vs)) for k, vs in stats.items()))\n",
    "    \n",
    "\n",
    "better_run(MLP(200, 10))"
   ]
  },
  {
   "cell_type": "markdown",
   "metadata": {},
   "source": [
    "Try different variants!\n",
    "\n",
    "- Does using a ConvNet improve performance (reduce overfitting?)\n",
    "- Try changing the learning rate and observe the effect\n",
    "- Does the model train if you give it correlated gradients? (consecutively sample many batches of \"1\", then many batches of \"2\", ... etc"
   ]
  },
  {
   "cell_type": "markdown",
   "metadata": {},
   "source": [
    "Test with different learning rates:\n",
    "\n",
    "Conclusion:\n",
    "- lower learning rate leads to small increases in test_accuracy and bigger test_losses in general. \n",
    "- higher learning rate has worse accuracy in general, but faster improvements in test_accuracy.  \n",
    "\n",
    "For this problem, the hyperparameter for the learning rate could maybe be optimized further with small deviations. A short check for factor 10 variance of the learning rate however lead to the best result with default learning rates. "
   ]
  },
  {
   "cell_type": "code",
   "execution_count": 13,
   "metadata": {},
   "outputs": [
    {
     "name": "stdout",
     "output_type": "stream",
     "text": [
      "loss: 2.313739538192749; accuracy: 0.0625; test_loss: 2.3215564727783202; test_accuracy: 0.07\n",
      "loss: 0.7604851496219635; accuracy: 0.8125; test_loss: 0.9048913359642029; test_accuracy: 0.7875\n",
      "loss: 0.4151624768972397; accuracy: 0.8825; test_loss: 0.5933199048042297; test_accuracy: 0.835\n",
      "loss: 0.39254723072052; accuracy: 0.8975; test_loss: 0.5134194254875183; test_accuracy: 0.845\n",
      "loss: 0.38634789884090426; accuracy: 0.885; test_loss: 0.46277027785778047; test_accuracy: 0.845\n",
      "loss: 0.25986884236335756; accuracy: 0.9275; test_loss: 0.4388473051786423; test_accuracy: 0.86\n",
      "loss: 0.3600405392050743; accuracy: 0.89; test_loss: 0.4432912391424179; test_accuracy: 0.865\n",
      "loss: 0.27492456942796706; accuracy: 0.9175; test_loss: 0.39906499803066253; test_accuracy: 0.8775\n",
      "loss: 0.27110754787921904; accuracy: 0.915; test_loss: 0.3914857983589172; test_accuracy: 0.8775\n",
      "loss: 0.32825633585453035; accuracy: 0.89; test_loss: 0.38925195574760435; test_accuracy: 0.8825\n",
      "loss: 0.22301802456378936; accuracy: 0.9275; test_loss: 0.39387351274490356; test_accuracy: 0.8775\n",
      "loss: 0.2672754734754562; accuracy: 0.925; test_loss: 0.36820402443408967; test_accuracy: 0.885\n",
      "loss: 0.250965890288353; accuracy: 0.92; test_loss: 0.3681062895059586; test_accuracy: 0.8925\n",
      "loss: 0.21109433293342592; accuracy: 0.945; test_loss: 0.37673529267311096; test_accuracy: 0.88\n",
      "loss: 0.19008243203163147; accuracy: 0.94; test_loss: 0.3619343435764313; test_accuracy: 0.8975\n",
      "loss: 0.14002910315990447; accuracy: 0.9675; test_loss: 0.36431451082229616; test_accuracy: 0.89\n",
      "loss: 0.22577125668525697; accuracy: 0.93; test_loss: 0.34309850215911863; test_accuracy: 0.8925\n",
      "loss: 0.22944476813077927; accuracy: 0.9425; test_loss: 0.32109077751636506; test_accuracy: 0.8925\n",
      "loss: 0.18898160696029664; accuracy: 0.95; test_loss: 0.32395399957895277; test_accuracy: 0.905\n",
      "loss: 0.2534297052025795; accuracy: 0.93; test_loss: 0.3031387460231781; test_accuracy: 0.895\n",
      "loss: 0.16179832488298415; accuracy: 0.9575; test_loss: 0.28892030715942385; test_accuracy: 0.905\n",
      "loss: 0.2087191453576088; accuracy: 0.9375; test_loss: 0.295407780110836; test_accuracy: 0.9125\n",
      "loss: 0.12659759253263472; accuracy: 0.9575; test_loss: 0.29063933461904523; test_accuracy: 0.9175\n",
      "loss: 0.17178525000810624; accuracy: 0.9475; test_loss: 0.29102499037981033; test_accuracy: 0.895\n",
      "loss: 0.19514926463365556; accuracy: 0.945; test_loss: 0.28592167645692823; test_accuracy: 0.91\n",
      "loss: 0.10190786302089691; accuracy: 0.97; test_loss: 0.27326289981603624; test_accuracy: 0.91\n",
      "loss: 2.291862964630127; accuracy: 0.25; test_loss: 2.889556589126587; test_accuracy: 0.11\n",
      "loss: 0.3658634349703789; accuracy: 0.9; test_loss: 0.6100581926107407; test_accuracy: 0.815\n",
      "loss: 0.4116330760717392; accuracy: 0.88; test_loss: 0.5451055905222892; test_accuracy: 0.835\n",
      "loss: 0.3869632497429848; accuracy: 0.89; test_loss: 0.6156172329187393; test_accuracy: 0.8075\n",
      "loss: 0.2782227176427841; accuracy: 0.9075; test_loss: 0.46262498319149015; test_accuracy: 0.88\n",
      "loss: 0.247210311293602; accuracy: 0.92; test_loss: 0.43013811618089676; test_accuracy: 0.8875\n",
      "loss: 0.35101354390382766; accuracy: 0.905; test_loss: 0.41607997119426726; test_accuracy: 0.8825\n",
      "loss: 0.333027783036232; accuracy: 0.9025; test_loss: 0.4641112133860588; test_accuracy: 0.88\n",
      "loss: 0.38769923120737076; accuracy: 0.9175; test_loss: 0.5373790925741195; test_accuracy: 0.8875\n",
      "loss: 0.15356439232826233; accuracy: 0.96; test_loss: 0.3597816297411919; test_accuracy: 0.915\n",
      "loss: 0.28150387048721315; accuracy: 0.9225; test_loss: 0.25456213355064394; test_accuracy: 0.925\n",
      "loss: 0.23034850329160692; accuracy: 0.9275; test_loss: 0.3913328483700752; test_accuracy: 0.8975\n",
      "loss: 0.2823467680811882; accuracy: 0.9225; test_loss: 0.4534557208418846; test_accuracy: 0.885\n",
      "loss: 0.21513312667608261; accuracy: 0.9425; test_loss: 0.37748840808868406; test_accuracy: 0.905\n",
      "loss: 0.25216152250766755; accuracy: 0.93; test_loss: 0.36559791505336764; test_accuracy: 0.8975\n",
      "loss: 0.1567945259809494; accuracy: 0.9525; test_loss: 0.35867106795310977; test_accuracy: 0.915\n",
      "loss: 0.3864031121134758; accuracy: 0.9275; test_loss: 0.5488482004404068; test_accuracy: 0.8525\n",
      "loss: 0.20006609469652176; accuracy: 0.945; test_loss: 0.5280730330944061; test_accuracy: 0.89\n",
      "loss: 0.18935992509126665; accuracy: 0.9475; test_loss: 0.4467394372820854; test_accuracy: 0.8925\n",
      "loss: 0.25460211634635926; accuracy: 0.94; test_loss: 0.38838878363370893; test_accuracy: 0.9075\n",
      "loss: 0.23108829081058502; accuracy: 0.925; test_loss: 0.36920948565006256; test_accuracy: 0.8925\n",
      "loss: 0.25874556124210357; accuracy: 0.915; test_loss: 0.43114390701055527; test_accuracy: 0.89\n",
      "loss: 0.2507500720024109; accuracy: 0.93; test_loss: 0.3382674852013588; test_accuracy: 0.9075\n",
      "loss: 0.2673454111814499; accuracy: 0.93; test_loss: 0.3867219966650009; test_accuracy: 0.89\n",
      "loss: 0.20660415887832642; accuracy: 0.945; test_loss: 0.2727218556404114; test_accuracy: 0.9225\n",
      "loss: 0.2405260419845581; accuracy: 0.94; test_loss: 0.32152298867702483; test_accuracy: 0.905\n"
     ]
    }
   ],
   "source": [
    "better_run(MLP(200, 10), learning_rate=0.0001) \n",
    "better_run(MLP(200, 10), learning_rate=0.01)\n"
   ]
  },
  {
   "cell_type": "markdown",
   "metadata": {},
   "source": [
    "#### Test with ConvNet implementation\n",
    "\n",
    "Conclusion:\n",
    "The ConvNet implementation for this problem didn't improve neither the increase of the learning rate or the accuracy overall. For this case, there should be done a further analyzation of the ConvNet or look for other ways to implement the ConvNet function."
   ]
  },
  {
   "cell_type": "code",
   "execution_count": 14,
   "metadata": {},
   "outputs": [
    {
     "name": "stdout",
     "output_type": "stream",
     "text": [
      "loss: 2.294663429260254; accuracy: 0.125; test_loss: 2.2816021156311037; test_accuracy: 0.1725\n",
      "loss: 1.0471605014801026; accuracy: 0.59; test_loss: 1.185521514415741; test_accuracy: 0.5575\n",
      "loss: 1.0583551669120788; accuracy: 0.58; test_loss: 1.1512546682357787; test_accuracy: 0.5575\n",
      "loss: 0.777556740641594; accuracy: 0.7; test_loss: 0.9127566480636596; test_accuracy: 0.6475\n",
      "loss: 0.8785129427909851; accuracy: 0.65; test_loss: 0.8668368148803711; test_accuracy: 0.6575\n",
      "loss: 0.6714535129070281; accuracy: 0.72; test_loss: 0.8190810942649841; test_accuracy: 0.6675\n",
      "loss: 0.8810569787025452; accuracy: 0.64; test_loss: 0.8481282305717468; test_accuracy: 0.6625\n",
      "loss: 0.7694527262449264; accuracy: 0.6875; test_loss: 0.8121882033348083; test_accuracy: 0.6725\n",
      "loss: 0.7886205446720124; accuracy: 0.6675; test_loss: 0.8305660462379456; test_accuracy: 0.665\n",
      "loss: 0.7837642121315003; accuracy: 0.68; test_loss: 0.8036838483810425; test_accuracy: 0.6725\n",
      "loss: 0.8559628987312317; accuracy: 0.64; test_loss: 0.8254607558250427; test_accuracy: 0.6675\n",
      "loss: 0.7734543848037719; accuracy: 0.6775; test_loss: 0.8656024992465973; test_accuracy: 0.6625\n",
      "loss: 0.8147897982597351; accuracy: 0.6575; test_loss: 0.7954864525794982; test_accuracy: 0.6775\n",
      "loss: 0.7479683566093445; accuracy: 0.6875; test_loss: 0.7912412679195404; test_accuracy: 0.6775\n",
      "loss: 0.8136303842067718; accuracy: 0.6675; test_loss: 0.840040214061737; test_accuracy: 0.665\n",
      "loss: 0.7899521470069886; accuracy: 0.665; test_loss: 0.7873343002796173; test_accuracy: 0.6825\n",
      "loss: 0.8032777309417725; accuracy: 0.67; test_loss: 0.7763921630382538; test_accuracy: 0.68\n",
      "loss: 0.725017928481102; accuracy: 0.69; test_loss: 0.8140685749053955; test_accuracy: 0.675\n",
      "loss: 0.613972133398056; accuracy: 0.745; test_loss: 0.7961400771141052; test_accuracy: 0.685\n",
      "loss: 0.8188233089447021; accuracy: 0.6625; test_loss: 0.8136206579208374; test_accuracy: 0.6675\n",
      "loss: 0.713337608575821; accuracy: 0.695; test_loss: 0.7778456234931945; test_accuracy: 0.6725\n",
      "loss: 0.7887026071548462; accuracy: 0.67; test_loss: 0.7950921487808228; test_accuracy: 0.6775\n",
      "loss: 0.6935133504867553; accuracy: 0.7075; test_loss: 0.7940122258663177; test_accuracy: 0.6825\n",
      "loss: 0.7621709311008453; accuracy: 0.68; test_loss: 0.8211788129806519; test_accuracy: 0.68\n",
      "loss: 0.6832677060365677; accuracy: 0.7175; test_loss: 0.76111820936203; test_accuracy: 0.685\n",
      "loss: 0.755367249250412; accuracy: 0.685; test_loss: 0.7952988612651825; test_accuracy: 0.6725\n"
     ]
    }
   ],
   "source": [
    "from chainer import Chain\n",
    "\n",
    "class MLPConvNet(Chain):\n",
    "\n",
    "    def __init__(self, n_units, n_out):\n",
    "        super(MLPConvNet, self).__init__()\n",
    "        with self.init_scope():\n",
    "            # the size of the inputs to each layer will be inferred\n",
    "            self.c1 = L.Convolution2D(None, out_channels=8, ksize=5)\n",
    "            self.l1 = L.Linear(None, n_units)  # n_in -> n_units\n",
    "            self.l2 = L.Linear(None, n_units)  # n_units -> n_units\n",
    "            self.l3 = L.Linear(None, n_out)  # n_units -> n_out\n",
    "        \n",
    "\n",
    "    def __call__(self, x):\n",
    "        x = x.reshape(x.shape[0],1,28,28)  \n",
    "        x = F.relu(self.c1(x))\n",
    "        x = F.relu(self.l1(x))\n",
    "        x = F.relu(self.l2(x))\n",
    "        x = F.relu(self.l3(x))\n",
    "        \n",
    "        return x\n",
    "        \n",
    "better_run(MLPConvNet(50, 10))"
   ]
  },
  {
   "cell_type": "code",
   "execution_count": null,
   "metadata": {},
   "outputs": [],
   "source": []
  }
 ],
 "metadata": {
  "kernelspec": {
   "display_name": "Python 3",
   "language": "python",
   "name": "python3"
  },
  "language_info": {
   "codemirror_mode": {
    "name": "ipython",
    "version": 3
   },
   "file_extension": ".py",
   "mimetype": "text/x-python",
   "name": "python",
   "nbconvert_exporter": "python",
   "pygments_lexer": "ipython3",
   "version": "3.7.9"
  }
 },
 "nbformat": 4,
 "nbformat_minor": 1
}
